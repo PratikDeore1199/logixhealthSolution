{
 "cells": [
  {
   "cell_type": "code",
   "execution_count": 11,
   "id": "55dbd015",
   "metadata": {},
   "outputs": [
    {
     "name": "stdout",
     "output_type": "stream",
     "text": [
      "1\n",
      "0001220\n",
      "[0, 1, 2] [] [4, 5]\n",
      "0\n"
     ]
    }
   ],
   "source": []
  },
  {
   "cell_type": "code",
   "execution_count": 1,
   "id": "96ec6998",
   "metadata": {},
   "outputs": [
    {
     "name": "stdout",
     "output_type": "stream",
     "text": [
      "4\n",
      "000\n",
      "0\n",
      "2010112\n",
      "2\n",
      "1011210\n",
      "1\n",
      "2120201\n",
      "2\n"
     ]
    }
   ],
   "source": [
    "def check(arr):\n",
    "    for i in range(len(arr)-1):\n",
    "        if len(arr)==1:\n",
    "            return True\n",
    "        if arr[i]!=(arr[i+1]-1):\n",
    "            return False\n",
    "    return True\n",
    "\n",
    "n=int(input())\n",
    "for i in range(n):\n",
    "    zero=0\n",
    "    one=0\n",
    "    two=0\n",
    "    flag=0\n",
    "    arr=input().strip()\n",
    "    index1=[]\n",
    "    index2=[]\n",
    "    index0=[]\n",
    "    for j in range(len(arr)):\n",
    "        \n",
    "        if arr[j]=='0':\n",
    "            zero+=1\n",
    "            index0.append(j)\n",
    "        elif arr[j]=='1':\n",
    "            one+=1\n",
    "            index1.append(j)\n",
    "        else:\n",
    "            two+=1\n",
    "            index2.append(j)       \n",
    "    if (check(index0)==True) and (check(index1)==True) and (check(index2)==True) :\n",
    "        print(0)\n",
    "    else:    \n",
    "        arr=[zero,one,two]\n",
    "        arr.sort()\n",
    "    \n",
    "        if arr[1]==0:\n",
    "            print(0)\n",
    "        else:\n",
    "            print((arr[0]+arr[1])//arr[1])"
   ]
  },
  {
   "cell_type": "code",
   "execution_count": null,
   "id": "9c8ee623",
   "metadata": {},
   "outputs": [],
   "source": []
  }
 ],
 "metadata": {
  "kernelspec": {
   "display_name": "Python 3 (ipykernel)",
   "language": "python",
   "name": "python3"
  },
  "language_info": {
   "codemirror_mode": {
    "name": "ipython",
    "version": 3
   },
   "file_extension": ".py",
   "mimetype": "text/x-python",
   "name": "python",
   "nbconvert_exporter": "python",
   "pygments_lexer": "ipython3",
   "version": "3.9.13"
  }
 },
 "nbformat": 4,
 "nbformat_minor": 5
}
